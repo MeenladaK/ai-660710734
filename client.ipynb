{
  "nbformat": 4,
  "nbformat_minor": 0,
  "metadata": {
    "colab": {
      "provenance": []
    },
    "kernelspec": {
      "name": "python3",
      "display_name": "Python 3"
    },
    "language_info": {
      "name": "python"
    }
  },
  "cells": [
    {
      "cell_type": "code",
      "execution_count": 1,
      "metadata": {
        "id": "ynbwOqahMpvk"
      },
      "outputs": [],
      "source": [
        "import requests"
      ]
    },
    {
      "cell_type": "code",
      "source": [
        "# URL ที่ได้จาก ngrok\n",
        "url = 'https://d8790d3277a1.ngrok-free.app/predict'  # แทนที่ด้วย URL ที่ได้จากขั้นตอนก่อนหน้า"
      ],
      "metadata": {
        "id": "hnNXoAn9Mwv8"
      },
      "execution_count": 2,
      "outputs": []
    },
    {
      "cell_type": "code",
      "source": [
        "# ข้อมูลทดสอบ\n",
        "data = {\n",
        "    \"age\": 63,\n",
        "    \"sex\": 1,\n",
        "    \"cp\": 3,\n",
        "    \"trestbps\": 145,\n",
        "    \"chol\": 233,\n",
        "    \"fbs\": 1,\n",
        "    \"restecg\": 0,\n",
        "    \"thalach\": 150,\n",
        "    \"exang\": 0,\n",
        "    \"oldpeak\": 2.3,\n",
        "    \"slope\": 0,\n",
        "    \"ca\": 0,\n",
        "    \"thal\": 1\n",
        "}"
      ],
      "metadata": {
        "id": "6TDg_9rdNDDQ"
      },
      "execution_count": 3,
      "outputs": []
    },
    {
      "cell_type": "code",
      "source": [
        "# ส่ง POST request\n",
        "response = requests.post(url, json=data)\n",
        "\n",
        "# แสดงผลลัพธ์\n",
        "print(response.json())"
      ],
      "metadata": {
        "colab": {
          "base_uri": "https://localhost:8080/"
        },
        "id": "MuJM1i7eND-w",
        "outputId": "28674ff9-26b6-4d74-80ad-d55f1d09d451"
      },
      "execution_count": 4,
      "outputs": [
        {
          "output_type": "stream",
          "name": "stdout",
          "text": [
            "{'prediction': 0}\n"
          ]
        }
      ]
    }
  ]
}